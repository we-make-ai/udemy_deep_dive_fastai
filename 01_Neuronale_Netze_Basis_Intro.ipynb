{
  "nbformat": 4,
  "nbformat_minor": 0,
  "metadata": {
    "colab": {
      "name": "01_Neuronale-Netze-Basis-Intro.ipynb",
      "provenance": [],
      "collapsed_sections": []
    },
    "kernelspec": {
      "name": "python3",
      "display_name": "Python 3"
    }
  },
  "cells": [
    {
      "cell_type": "code",
      "metadata": {
        "id": "PSN-OvBC0ch7"
      },
      "source": [
        "!pip install -Uqq fastbook\n",
        "import fastbook\n",
        "fastbook.setup_book()"
      ],
      "execution_count": null,
      "outputs": []
    },
    {
      "cell_type": "markdown",
      "metadata": {
        "id": "e-3yUN4H0zid"
      },
      "source": [
        "# Matrizzen-Multiplikation"
      ]
    },
    {
      "cell_type": "code",
      "metadata": {
        "id": "mE932HS40yNs"
      },
      "source": [
        "import torch\n",
        "from torch import tensor"
      ],
      "execution_count": null,
      "outputs": []
    },
    {
      "cell_type": "code",
      "metadata": {
        "id": "rCe784SA0_PJ"
      },
      "source": [
        "def matmul(a,b):\n",
        "    ar,ac = a.shape # n_rows * n_cols\n",
        "    br,bc = b.shape\n",
        "    assert ac==br\n",
        "    c = torch.zeros(ar, bc)\n",
        "    for i in range(ar):\n",
        "        for j in range(bc):\n",
        "            for k in range(ac): c[i,j] += a[i,k] * b[k,j]\n",
        "    return c"
      ],
      "execution_count": null,
      "outputs": []
    },
    {
      "cell_type": "code",
      "metadata": {
        "id": "hDsRjW7r1A5r"
      },
      "source": [
        "m1 = torch.randn(5,28*28)\n",
        "m2 = torch.randn(784,10)"
      ],
      "execution_count": null,
      "outputs": []
    },
    {
      "cell_type": "code",
      "metadata": {
        "colab": {
          "base_uri": "https://localhost:8080/"
        },
        "id": "Q2I3RuG01OrM",
        "outputId": "642ee09f-f410-4e2a-8866-eb539286aec4"
      },
      "source": [
        "%time t1=matmul(m1, m2)"
      ],
      "execution_count": null,
      "outputs": [
        {
          "output_type": "stream",
          "text": [
            "CPU times: user 940 ms, sys: 0 ns, total: 940 ms\n",
            "Wall time: 949 ms\n"
          ],
          "name": "stdout"
        }
      ]
    },
    {
      "cell_type": "code",
      "metadata": {
        "colab": {
          "base_uri": "https://localhost:8080/"
        },
        "id": "gDKSx0rl1Q_q",
        "outputId": "2c8e56ee-4bf9-4e3f-f44f-6517cfc7e490"
      },
      "source": [
        "%timeit -n 20 t2=m1@m2"
      ],
      "execution_count": null,
      "outputs": [
        {
          "output_type": "stream",
          "text": [
            "The slowest run took 6.43 times longer than the fastest. This could mean that an intermediate result is being cached.\n",
            "20 loops, best of 3: 11.6 µs per loop\n"
          ],
          "name": "stdout"
        }
      ]
    },
    {
      "cell_type": "markdown",
      "metadata": {
        "id": "Vg-TOVf7-86F"
      },
      "source": [
        "## Elementweise Operatoren"
      ]
    },
    {
      "cell_type": "code",
      "metadata": {
        "colab": {
          "base_uri": "https://localhost:8080/"
        },
        "id": "YdHauc1R1VcB",
        "outputId": "fa72f0d0-410e-4197-ba51-e1815893aee1"
      },
      "source": [
        "a = tensor([10., 6, -4])\n",
        "b = tensor([2., 8, 7])\n",
        "a + b"
      ],
      "execution_count": null,
      "outputs": [
        {
          "output_type": "execute_result",
          "data": {
            "text/plain": [
              "tensor([12., 14.,  3.])"
            ]
          },
          "metadata": {
            "tags": []
          },
          "execution_count": 125
        }
      ]
    },
    {
      "cell_type": "code",
      "metadata": {
        "colab": {
          "base_uri": "https://localhost:8080/"
        },
        "id": "e8hwEDpG_Aws",
        "outputId": "229603c8-2f37-44fb-faa4-65a7cdd35dbb"
      },
      "source": [
        "a < b"
      ],
      "execution_count": null,
      "outputs": [
        {
          "output_type": "execute_result",
          "data": {
            "text/plain": [
              "tensor([False,  True,  True])"
            ]
          },
          "metadata": {
            "tags": []
          },
          "execution_count": 126
        }
      ]
    },
    {
      "cell_type": "code",
      "metadata": {
        "colab": {
          "base_uri": "https://localhost:8080/"
        },
        "id": "i4Z1cUQ3_B0y",
        "outputId": "0b5e1629-0092-4e62-c41a-34d3afc62761"
      },
      "source": [
        "(a < b).all(), (a==b).all()"
      ],
      "execution_count": null,
      "outputs": [
        {
          "output_type": "execute_result",
          "data": {
            "text/plain": [
              "(tensor(False), tensor(False))"
            ]
          },
          "metadata": {
            "tags": []
          },
          "execution_count": 127
        }
      ]
    },
    {
      "cell_type": "code",
      "metadata": {
        "colab": {
          "base_uri": "https://localhost:8080/"
        },
        "id": "QTHHizkO_D8j",
        "outputId": "3cfd31a2-03f8-4681-a6d6-c0c98fcbc30d"
      },
      "source": [
        "(a + b).mean().item()"
      ],
      "execution_count": null,
      "outputs": [
        {
          "output_type": "execute_result",
          "data": {
            "text/plain": [
              "9.666666984558105"
            ]
          },
          "metadata": {
            "tags": []
          },
          "execution_count": 128
        }
      ]
    },
    {
      "cell_type": "code",
      "metadata": {
        "colab": {
          "base_uri": "https://localhost:8080/"
        },
        "id": "W13LAE3L_Foj",
        "outputId": "5e050932-f717-43f9-e397-040082797b71"
      },
      "source": [
        "m = tensor([[1., 2, 3], [4,5,6], [7,8,9]])\n",
        "m*m"
      ],
      "execution_count": null,
      "outputs": [
        {
          "output_type": "execute_result",
          "data": {
            "text/plain": [
              "tensor([[ 1.,  4.,  9.],\n",
              "        [16., 25., 36.],\n",
              "        [49., 64., 81.]])"
            ]
          },
          "metadata": {
            "tags": []
          },
          "execution_count": 129
        }
      ]
    },
    {
      "cell_type": "code",
      "metadata": {
        "colab": {
          "base_uri": "https://localhost:8080/",
          "height": 184
        },
        "id": "02944A4F_HiK",
        "outputId": "548adab8-897e-4f4f-cd00-8c591cb3955c"
      },
      "source": [
        "n = tensor([[1., 2, 3], [4,5,6]])\n",
        "m*n"
      ],
      "execution_count": null,
      "outputs": [
        {
          "output_type": "error",
          "ename": "RuntimeError",
          "evalue": "ignored",
          "traceback": [
            "\u001b[0;31m---------------------------------------------------------------------------\u001b[0m",
            "\u001b[0;31mRuntimeError\u001b[0m                              Traceback (most recent call last)",
            "\u001b[0;32m<ipython-input-130-add73c4f74e0>\u001b[0m in \u001b[0;36m<module>\u001b[0;34m()\u001b[0m\n\u001b[1;32m      1\u001b[0m \u001b[0mn\u001b[0m \u001b[0;34m=\u001b[0m \u001b[0mtensor\u001b[0m\u001b[0;34m(\u001b[0m\u001b[0;34m[\u001b[0m\u001b[0;34m[\u001b[0m\u001b[0;36m1.\u001b[0m\u001b[0;34m,\u001b[0m \u001b[0;36m2\u001b[0m\u001b[0;34m,\u001b[0m \u001b[0;36m3\u001b[0m\u001b[0;34m]\u001b[0m\u001b[0;34m,\u001b[0m \u001b[0;34m[\u001b[0m\u001b[0;36m4\u001b[0m\u001b[0;34m,\u001b[0m\u001b[0;36m5\u001b[0m\u001b[0;34m,\u001b[0m\u001b[0;36m6\u001b[0m\u001b[0;34m]\u001b[0m\u001b[0;34m]\u001b[0m\u001b[0;34m)\u001b[0m\u001b[0;34m\u001b[0m\u001b[0;34m\u001b[0m\u001b[0m\n\u001b[0;32m----> 2\u001b[0;31m \u001b[0mm\u001b[0m\u001b[0;34m*\u001b[0m\u001b[0mn\u001b[0m\u001b[0;34m\u001b[0m\u001b[0;34m\u001b[0m\u001b[0m\n\u001b[0m",
            "\u001b[0;31mRuntimeError\u001b[0m: The size of tensor a (3) must match the size of tensor b (2) at non-singleton dimension 0"
          ]
        }
      ]
    },
    {
      "cell_type": "markdown",
      "metadata": {
        "id": "xbwLiHKl_fLc"
      },
      "source": [
        "### Optimierung unserer MatMul Funktion"
      ]
    },
    {
      "cell_type": "code",
      "metadata": {
        "id": "zCfCN2pb_OnC"
      },
      "source": [
        "def matmul(a,b):\n",
        "    ar,ac = a.shape\n",
        "    br,bc = b.shape\n",
        "    assert ac==br\n",
        "    c = torch.zeros(ar, bc)\n",
        "    for i in range(ar):\n",
        "        for j in range(bc): c[i,j] = (a[i] * b[:,j]).sum()\n",
        "    return c"
      ],
      "execution_count": null,
      "outputs": []
    },
    {
      "cell_type": "code",
      "metadata": {
        "colab": {
          "base_uri": "https://localhost:8080/"
        },
        "id": "6SRj_NBb_iOi",
        "outputId": "5aff1770-6c90-4e45-f4ab-c5184081ec54"
      },
      "source": [
        "%timeit -n 20 t3 = matmul(m1,m2)"
      ],
      "execution_count": null,
      "outputs": [
        {
          "output_type": "stream",
          "text": [
            "20 loops, best of 3: 1.25 ms per loop\n"
          ],
          "name": "stdout"
        }
      ]
    },
    {
      "cell_type": "markdown",
      "metadata": {
        "id": "DSHaYaOqLHee"
      },
      "source": [
        "## Broadcasting"
      ]
    },
    {
      "cell_type": "code",
      "metadata": {
        "colab": {
          "base_uri": "https://localhost:8080/"
        },
        "id": "ZKygsqFULGwh",
        "outputId": "40efa945-80f6-4989-a0b2-b9c2fde1fe3a"
      },
      "source": [
        "a = tensor([10., 6, -4])\n",
        "a > 0"
      ],
      "execution_count": null,
      "outputs": [
        {
          "output_type": "execute_result",
          "data": {
            "text/plain": [
              "tensor([ True,  True, False])"
            ]
          },
          "metadata": {
            "tags": []
          },
          "execution_count": 133
        }
      ]
    },
    {
      "cell_type": "code",
      "metadata": {
        "colab": {
          "base_uri": "https://localhost:8080/"
        },
        "id": "Xi-FCD7p_k_D",
        "outputId": "aea924bc-dee7-432a-8864-bd35c341cf1a"
      },
      "source": [
        "m = tensor([[1., 2, 3], [4,5,6], [7,8,9]])\n",
        "(m - 5) / 2.73"
      ],
      "execution_count": null,
      "outputs": [
        {
          "output_type": "execute_result",
          "data": {
            "text/plain": [
              "tensor([[-1.4652, -1.0989, -0.7326],\n",
              "        [-0.3663,  0.0000,  0.3663],\n",
              "        [ 0.7326,  1.0989,  1.4652]])"
            ]
          },
          "metadata": {
            "tags": []
          },
          "execution_count": 134
        }
      ]
    },
    {
      "cell_type": "code",
      "metadata": {
        "colab": {
          "base_uri": "https://localhost:8080/"
        },
        "id": "LijnIHxiLkb7",
        "outputId": "2da39dd8-ff8a-44ce-b55b-4fa8c462ca21"
      },
      "source": [
        "c = tensor([10.,20,30])\n",
        "m = tensor([[1., 2, 3], [4,5,6], [7,8,9]])\n",
        "m.shape,c.shape"
      ],
      "execution_count": null,
      "outputs": [
        {
          "output_type": "execute_result",
          "data": {
            "text/plain": [
              "(torch.Size([3, 3]), torch.Size([3]))"
            ]
          },
          "metadata": {
            "tags": []
          },
          "execution_count": 135
        }
      ]
    },
    {
      "cell_type": "code",
      "metadata": {
        "colab": {
          "base_uri": "https://localhost:8080/"
        },
        "id": "GNyZsrHjLnpb",
        "outputId": "6982f96f-d6c7-4ea0-be58-23466b23b89e"
      },
      "source": [
        "m + c"
      ],
      "execution_count": null,
      "outputs": [
        {
          "output_type": "execute_result",
          "data": {
            "text/plain": [
              "tensor([[11., 22., 33.],\n",
              "        [14., 25., 36.],\n",
              "        [17., 28., 39.]])"
            ]
          },
          "metadata": {
            "tags": []
          },
          "execution_count": 136
        }
      ]
    },
    {
      "cell_type": "code",
      "metadata": {
        "colab": {
          "base_uri": "https://localhost:8080/"
        },
        "id": "sX4jepddLvQz",
        "outputId": "57e4f3e0-401f-4bde-d117-9f1de7eaa334"
      },
      "source": [
        "c.expand_as(m)"
      ],
      "execution_count": null,
      "outputs": [
        {
          "output_type": "execute_result",
          "data": {
            "text/plain": [
              "tensor([[10., 20., 30.],\n",
              "        [10., 20., 30.],\n",
              "        [10., 20., 30.]])"
            ]
          },
          "metadata": {
            "tags": []
          },
          "execution_count": 137
        }
      ]
    },
    {
      "cell_type": "code",
      "metadata": {
        "colab": {
          "base_uri": "https://localhost:8080/"
        },
        "id": "NnCt2Zu9L0IT",
        "outputId": "6a0c31cf-c1bc-409d-ac84-0dfb4f58f89d"
      },
      "source": [
        "t = c.expand_as(m)\n",
        "t.storage()"
      ],
      "execution_count": null,
      "outputs": [
        {
          "output_type": "execute_result",
          "data": {
            "text/plain": [
              " 10.0\n",
              " 20.0\n",
              " 30.0\n",
              "[torch.FloatStorage of size 3]"
            ]
          },
          "metadata": {
            "tags": []
          },
          "execution_count": 138
        }
      ]
    },
    {
      "cell_type": "code",
      "metadata": {
        "colab": {
          "base_uri": "https://localhost:8080/"
        },
        "id": "VDVWVaNcMCbb",
        "outputId": "8f9376df-02f5-48d2-d9df-a909c1f96050"
      },
      "source": [
        "t.stride(), t.shape"
      ],
      "execution_count": null,
      "outputs": [
        {
          "output_type": "execute_result",
          "data": {
            "text/plain": [
              "((0, 1), torch.Size([3, 3]))"
            ]
          },
          "metadata": {
            "tags": []
          },
          "execution_count": 139
        }
      ]
    },
    {
      "cell_type": "code",
      "metadata": {
        "colab": {
          "base_uri": "https://localhost:8080/"
        },
        "id": "zLa0U0MGMFF7",
        "outputId": "14b8f928-4973-48f1-ec37-fbee1eeb2490"
      },
      "source": [
        "c + m"
      ],
      "execution_count": null,
      "outputs": [
        {
          "output_type": "execute_result",
          "data": {
            "text/plain": [
              "tensor([[11., 22., 33.],\n",
              "        [14., 25., 36.],\n",
              "        [17., 28., 39.]])"
            ]
          },
          "metadata": {
            "tags": []
          },
          "execution_count": 140
        }
      ]
    },
    {
      "cell_type": "code",
      "metadata": {
        "colab": {
          "base_uri": "https://localhost:8080/"
        },
        "id": "nshOFmXEMHBM",
        "outputId": "a069ca44-91ad-4b28-c61b-00e673e3bc2e"
      },
      "source": [
        "c = tensor([10.,20,30])\n",
        "m = tensor([[1., 2, 3], [4,5,6]])\n",
        "c+m"
      ],
      "execution_count": null,
      "outputs": [
        {
          "output_type": "execute_result",
          "data": {
            "text/plain": [
              "tensor([[11., 22., 33.],\n",
              "        [14., 25., 36.]])"
            ]
          },
          "metadata": {
            "tags": []
          },
          "execution_count": 141
        }
      ]
    },
    {
      "cell_type": "code",
      "metadata": {
        "colab": {
          "base_uri": "https://localhost:8080/",
          "height": 201
        },
        "id": "NBwcrkDhMKNE",
        "outputId": "27008dc9-0145-48d2-e430-0d021d559b99"
      },
      "source": [
        "c = tensor([10.,20])\n",
        "m = tensor([[1., 2, 3], [4,5,6]])\n",
        "c+m"
      ],
      "execution_count": null,
      "outputs": [
        {
          "output_type": "error",
          "ename": "RuntimeError",
          "evalue": "ignored",
          "traceback": [
            "\u001b[0;31m---------------------------------------------------------------------------\u001b[0m",
            "\u001b[0;31mRuntimeError\u001b[0m                              Traceback (most recent call last)",
            "\u001b[0;32m<ipython-input-142-64bbbad4d99c>\u001b[0m in \u001b[0;36m<module>\u001b[0;34m()\u001b[0m\n\u001b[1;32m      1\u001b[0m \u001b[0mc\u001b[0m \u001b[0;34m=\u001b[0m \u001b[0mtensor\u001b[0m\u001b[0;34m(\u001b[0m\u001b[0;34m[\u001b[0m\u001b[0;36m10.\u001b[0m\u001b[0;34m,\u001b[0m\u001b[0;36m20\u001b[0m\u001b[0;34m]\u001b[0m\u001b[0;34m)\u001b[0m\u001b[0;34m\u001b[0m\u001b[0;34m\u001b[0m\u001b[0m\n\u001b[1;32m      2\u001b[0m \u001b[0mm\u001b[0m \u001b[0;34m=\u001b[0m \u001b[0mtensor\u001b[0m\u001b[0;34m(\u001b[0m\u001b[0;34m[\u001b[0m\u001b[0;34m[\u001b[0m\u001b[0;36m1.\u001b[0m\u001b[0;34m,\u001b[0m \u001b[0;36m2\u001b[0m\u001b[0;34m,\u001b[0m \u001b[0;36m3\u001b[0m\u001b[0;34m]\u001b[0m\u001b[0;34m,\u001b[0m \u001b[0;34m[\u001b[0m\u001b[0;36m4\u001b[0m\u001b[0;34m,\u001b[0m\u001b[0;36m5\u001b[0m\u001b[0;34m,\u001b[0m\u001b[0;36m6\u001b[0m\u001b[0;34m]\u001b[0m\u001b[0;34m]\u001b[0m\u001b[0;34m)\u001b[0m\u001b[0;34m\u001b[0m\u001b[0;34m\u001b[0m\u001b[0m\n\u001b[0;32m----> 3\u001b[0;31m \u001b[0mc\u001b[0m\u001b[0;34m+\u001b[0m\u001b[0mm\u001b[0m\u001b[0;34m\u001b[0m\u001b[0;34m\u001b[0m\u001b[0m\n\u001b[0m",
            "\u001b[0;31mRuntimeError\u001b[0m: The size of tensor a (2) must match the size of tensor b (3) at non-singleton dimension 1"
          ]
        }
      ]
    },
    {
      "cell_type": "code",
      "metadata": {
        "id": "0z5MAAUsMg2T"
      },
      "source": [
        "c = tensor([10.,20,30])\n",
        "m = tensor([[1., 2, 3], [4,5,6], [7,8,9]])\n",
        "c = c.unsqueeze(1)\n",
        "m.shape,c.shape"
      ],
      "execution_count": null,
      "outputs": []
    },
    {
      "cell_type": "code",
      "metadata": {
        "id": "uAw21eVaMrdT"
      },
      "source": [
        "c+m"
      ],
      "execution_count": null,
      "outputs": []
    },
    {
      "cell_type": "code",
      "metadata": {
        "id": "b8ZNPslKMtVU"
      },
      "source": [
        "t = c.expand_as(m)\n",
        "t.storage()"
      ],
      "execution_count": null,
      "outputs": []
    },
    {
      "cell_type": "code",
      "metadata": {
        "id": "b8ypLkHKMvGE"
      },
      "source": [
        "t.stride(), t.shape"
      ],
      "execution_count": null,
      "outputs": []
    },
    {
      "cell_type": "code",
      "metadata": {
        "colab": {
          "base_uri": "https://localhost:8080/"
        },
        "id": "OXwlcW_yMxoL",
        "outputId": "e8adff0c-63aa-4285-f820-caf5ef2535c5"
      },
      "source": [
        "c = tensor([10.,20,30])\n",
        "c.shape, c.unsqueeze(0).shape,c.unsqueeze(1).shape"
      ],
      "execution_count": null,
      "outputs": [
        {
          "output_type": "execute_result",
          "data": {
            "text/plain": [
              "(torch.Size([3]), torch.Size([1, 3]), torch.Size([3, 1]))"
            ]
          },
          "metadata": {
            "tags": []
          },
          "execution_count": 143
        }
      ]
    },
    {
      "cell_type": "code",
      "metadata": {
        "colab": {
          "base_uri": "https://localhost:8080/"
        },
        "id": "upIbBbo8M1FU",
        "outputId": "b6cd085c-e1b4-4f22-f518-85f2e5ef251f"
      },
      "source": [
        "c.shape, c[None,:].shape,c[:,None].shape"
      ],
      "execution_count": null,
      "outputs": [
        {
          "output_type": "execute_result",
          "data": {
            "text/plain": [
              "(torch.Size([3]), torch.Size([1, 3]), torch.Size([3, 1]))"
            ]
          },
          "metadata": {
            "tags": []
          },
          "execution_count": 144
        }
      ]
    },
    {
      "cell_type": "code",
      "metadata": {
        "colab": {
          "base_uri": "https://localhost:8080/"
        },
        "id": "U5MAj7-vM4R7",
        "outputId": "783f24d2-5462-420f-ff42-8d62ed9b959d"
      },
      "source": [
        "c[None].shape,c[...,None].shape"
      ],
      "execution_count": null,
      "outputs": [
        {
          "output_type": "execute_result",
          "data": {
            "text/plain": [
              "(torch.Size([1, 3]), torch.Size([3, 1]))"
            ]
          },
          "metadata": {
            "tags": []
          },
          "execution_count": 145
        }
      ]
    },
    {
      "cell_type": "code",
      "metadata": {
        "id": "xxbkyV2jM7BL"
      },
      "source": [
        "def matmul(a,b):\n",
        "    ar,ac = a.shape\n",
        "    br,bc = b.shape\n",
        "    assert ac==br\n",
        "    c = torch.zeros(ar, bc)\n",
        "    for i in range(ar):\n",
        "#       c[i,j] = (a[i,:]          * b[:,j]).sum() # previous\n",
        "        c[i]   = (a[i  ].unsqueeze(-1) * b).sum(dim=0)\n",
        "    return c"
      ],
      "execution_count": null,
      "outputs": []
    },
    {
      "cell_type": "code",
      "metadata": {
        "colab": {
          "base_uri": "https://localhost:8080/"
        },
        "id": "gXeCsx3rM9jU",
        "outputId": "fa477243-2c10-4df8-82fc-4215dd0f49ba"
      },
      "source": [
        "%timeit -n 20 t4 = matmul(m1,m2)"
      ],
      "execution_count": null,
      "outputs": [
        {
          "output_type": "stream",
          "text": [
            "20 loops, best of 3: 224 µs per loop\n"
          ],
          "name": "stdout"
        }
      ]
    },
    {
      "cell_type": "markdown",
      "metadata": {
        "id": "7g899CG12vNi"
      },
      "source": [
        "## Unser erster linearer Layer"
      ]
    },
    {
      "cell_type": "code",
      "metadata": {
        "id": "iAIhTUARM_f7"
      },
      "source": [
        "def lin(x, w, b): return x @ w + b"
      ],
      "execution_count": null,
      "outputs": []
    },
    {
      "cell_type": "code",
      "metadata": {
        "id": "HaSl6luk2zPE"
      },
      "source": [
        "# Wir simulieren 200 Input-Vektoren der Größe 100 pro Trainings-Batch\n",
        "x = torch.randn(200, 100)\n",
        "y = torch.randn(200)"
      ],
      "execution_count": null,
      "outputs": []
    },
    {
      "cell_type": "code",
      "metadata": {
        "id": "LW_ARaM_3JoD"
      },
      "source": [
        "w1 = torch.randn(100,50)\n",
        "b1 = torch.zeros(50)\n",
        "w2 = torch.randn(50,1)\n",
        "b2 = torch.zeros(1)"
      ],
      "execution_count": null,
      "outputs": []
    },
    {
      "cell_type": "code",
      "metadata": {
        "colab": {
          "base_uri": "https://localhost:8080/"
        },
        "id": "NiUyA8SB3Unr",
        "outputId": "edb99788-cd25-411e-99b8-72727c03a674"
      },
      "source": [
        "l1 = lin(x, w1, b1)\n",
        "l1.shape"
      ],
      "execution_count": null,
      "outputs": [
        {
          "output_type": "execute_result",
          "data": {
            "text/plain": [
              "torch.Size([200, 50])"
            ]
          },
          "metadata": {
            "tags": []
          },
          "execution_count": 151
        }
      ]
    },
    {
      "cell_type": "code",
      "metadata": {
        "colab": {
          "base_uri": "https://localhost:8080/"
        },
        "id": "Cj184NoO3Xe0",
        "outputId": "ae3391fd-4f7e-424c-beca-4673974fcd3f"
      },
      "source": [
        "l1.mean(), l1.std()"
      ],
      "execution_count": null,
      "outputs": [
        {
          "output_type": "execute_result",
          "data": {
            "text/plain": [
              "(tensor(-0.0610), tensor(10.0577))"
            ]
          },
          "metadata": {
            "tags": []
          },
          "execution_count": 152
        }
      ]
    },
    {
      "cell_type": "code",
      "metadata": {
        "colab": {
          "base_uri": "https://localhost:8080/"
        },
        "id": "-eUF8YKi3hd9",
        "outputId": "05ce50e2-42fe-4289-bb7d-cf50efd3dfc3"
      },
      "source": [
        "x = torch.randn(200, 100)\n",
        "for i in range(50): x = x @ torch.randn(100,100)\n",
        "x[0:5,0:5]"
      ],
      "execution_count": null,
      "outputs": [
        {
          "output_type": "execute_result",
          "data": {
            "text/plain": [
              "tensor([[nan, nan, nan, nan, nan],\n",
              "        [nan, nan, nan, nan, nan],\n",
              "        [nan, nan, nan, nan, nan],\n",
              "        [nan, nan, nan, nan, nan],\n",
              "        [nan, nan, nan, nan, nan]])"
            ]
          },
          "metadata": {
            "tags": []
          },
          "execution_count": 153
        }
      ]
    },
    {
      "cell_type": "code",
      "metadata": {
        "colab": {
          "base_uri": "https://localhost:8080/"
        },
        "id": "7rQKWZ_23w78",
        "outputId": "e14ec32f-c85c-44c7-fe9d-e1617f513358"
      },
      "source": [
        "x = torch.randn(200, 100)\n",
        "for i in range(50): x = x @ (torch.randn(100,100) * 0.01)\n",
        "x[0:5,0:5]"
      ],
      "execution_count": null,
      "outputs": [
        {
          "output_type": "execute_result",
          "data": {
            "text/plain": [
              "tensor([[0., 0., 0., 0., 0.],\n",
              "        [0., 0., 0., 0., 0.],\n",
              "        [0., 0., 0., 0., 0.],\n",
              "        [0., 0., 0., 0., 0.],\n",
              "        [0., 0., 0., 0., 0.]])"
            ]
          },
          "metadata": {
            "tags": []
          },
          "execution_count": 154
        }
      ]
    },
    {
      "cell_type": "markdown",
      "metadata": {
        "id": "ynUQFVcq37Rd"
      },
      "source": [
        "[Understanding the Difficulty of Training Deep Feedforward Neural Networks](http://proceedings.mlr.press/v9/glorot10a/glorot10a.pdf)\n",
        "\n",
        "![image.png](data:image/png;base64,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)"
      ]
    },
    {
      "cell_type": "code",
      "metadata": {
        "colab": {
          "base_uri": "https://localhost:8080/"
        },
        "id": "XP7Cz33k31KU",
        "outputId": "5349fee4-8f7e-4600-e676-d81f4104d0ae"
      },
      "source": [
        "x = torch.randn(200, 100)\n",
        "for i in range(50): x = x @ (torch.randn(100,100) * 0.1)\n",
        "x[0:5,0:5]"
      ],
      "execution_count": null,
      "outputs": [
        {
          "output_type": "execute_result",
          "data": {
            "text/plain": [
              "tensor([[-1.1653, -2.0859, -0.4624, -0.3957, -0.5566],\n",
              "        [ 0.1172, -0.0840,  0.3269, -0.7882,  0.3907],\n",
              "        [ 0.5581,  0.8748,  0.6427,  0.2849, -0.6254],\n",
              "        [-0.7081,  0.1232,  0.5983, -1.3156,  0.0757],\n",
              "        [ 0.7136, -0.5902, -0.7342,  0.4852,  0.0726]])"
            ]
          },
          "metadata": {
            "tags": []
          },
          "execution_count": 155
        }
      ]
    },
    {
      "cell_type": "code",
      "metadata": {
        "colab": {
          "base_uri": "https://localhost:8080/"
        },
        "id": "RGIaFDkN4Y7k",
        "outputId": "14ca0258-cb47-4280-b2d7-299a78c939d3"
      },
      "source": [
        "x.std()"
      ],
      "execution_count": null,
      "outputs": [
        {
          "output_type": "execute_result",
          "data": {
            "text/plain": [
              "tensor(0.9296)"
            ]
          },
          "metadata": {
            "tags": []
          },
          "execution_count": 156
        }
      ]
    },
    {
      "cell_type": "code",
      "metadata": {
        "id": "vbcL_Yeu4cnV"
      },
      "source": [
        "x = torch.randn(200, 100)\n",
        "y = torch.randn(200)"
      ],
      "execution_count": null,
      "outputs": []
    },
    {
      "cell_type": "markdown",
      "metadata": {
        "id": "1pgtFPqB4oP2"
      },
      "source": [
        "[Xavier initialization (or Glorot initialization)](https://www.kuenstliche-intelligenz-in-a-nutshell.at/2020/04/04/xavier-initialization-neural-nets.html)"
      ]
    },
    {
      "cell_type": "code",
      "metadata": {
        "id": "GHv5tdoD4kIc"
      },
      "source": [
        "from math import sqrt\n",
        "w1 = torch.randn(100,50) / sqrt(100)\n",
        "b1 = torch.zeros(50)\n",
        "w2 = torch.randn(50,1) / sqrt(50)\n",
        "b2 = torch.zeros(1)"
      ],
      "execution_count": null,
      "outputs": []
    },
    {
      "cell_type": "code",
      "metadata": {
        "colab": {
          "base_uri": "https://localhost:8080/"
        },
        "id": "llztOtVi44Fc",
        "outputId": "93d39429-f1e8-4815-9583-1e59bc61f817"
      },
      "source": [
        "l1 = lin(x, w1, b1)\n",
        "l1.mean(),l1.std()"
      ],
      "execution_count": null,
      "outputs": [
        {
          "output_type": "execute_result",
          "data": {
            "text/plain": [
              "(tensor(-0.0093), tensor(0.9840))"
            ]
          },
          "metadata": {
            "tags": []
          },
          "execution_count": 159
        }
      ]
    },
    {
      "cell_type": "code",
      "metadata": {
        "id": "4zcbte2D46ms"
      },
      "source": [
        "def relu(x): return x.clamp_min(0.)"
      ],
      "execution_count": null,
      "outputs": []
    },
    {
      "cell_type": "code",
      "metadata": {
        "colab": {
          "base_uri": "https://localhost:8080/"
        },
        "id": "dND5L2fM488x",
        "outputId": "59beb0b2-3c74-4af2-fe2d-5f723d058bb4"
      },
      "source": [
        "l2 = relu(l1)\n",
        "l2.mean(),l2.std()"
      ],
      "execution_count": null,
      "outputs": [
        {
          "output_type": "execute_result",
          "data": {
            "text/plain": [
              "(tensor(0.3868), tensor(0.5715))"
            ]
          },
          "metadata": {
            "tags": []
          },
          "execution_count": 161
        }
      ]
    },
    {
      "cell_type": "code",
      "metadata": {
        "colab": {
          "base_uri": "https://localhost:8080/"
        },
        "id": "C9rjTYAF5AGT",
        "outputId": "b3d58491-d9f4-455c-9538-076db12c95b1"
      },
      "source": [
        "x = torch.randn(200, 100)\n",
        "for i in range(50): x = relu(x @ (torch.randn(100,100) * 0.1))\n",
        "x[0:5,0:5]"
      ],
      "execution_count": null,
      "outputs": [
        {
          "output_type": "execute_result",
          "data": {
            "text/plain": [
              "tensor([[0., 0., 0., 0., 0.],\n",
              "        [0., 0., 0., 0., 0.],\n",
              "        [0., 0., 0., 0., 0.],\n",
              "        [0., 0., 0., 0., 0.],\n",
              "        [0., 0., 0., 0., 0.]])"
            ]
          },
          "metadata": {
            "tags": []
          },
          "execution_count": 162
        }
      ]
    },
    {
      "cell_type": "markdown",
      "metadata": {
        "id": "WEXOzK6M5NkC"
      },
      "source": [
        "Ooops, Glorot und Bengio verwendeten `tanh` als Aktivierungsfunktion. Wir haben `ReLU` verwendet....\n",
        "\n",
        "[Delving Deep into Rectifiers: Surpassing Human-Level Performance](https://arxiv.org/abs/1502.01852)\n",
        "\n",
        "![image.png](data:image/png;base64,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)"
      ]
    },
    {
      "cell_type": "code",
      "metadata": {
        "colab": {
          "base_uri": "https://localhost:8080/"
        },
        "id": "H9J00KuM5F-j",
        "outputId": "0bbfc5bc-efea-422b-acbb-0b22c1403c5d"
      },
      "source": [
        "x = torch.randn(200, 100)\n",
        "for i in range(50): x = relu(x @ (torch.randn(100,100) * sqrt(2/100)))\n",
        "x[0:5,0:5]"
      ],
      "execution_count": null,
      "outputs": [
        {
          "output_type": "execute_result",
          "data": {
            "text/plain": [
              "tensor([[0.0000, 0.0000, 0.7603, 0.0000, 0.0000],\n",
              "        [0.0000, 0.0000, 0.4510, 0.0000, 0.0000],\n",
              "        [0.0000, 0.0000, 0.1844, 0.0000, 0.0032],\n",
              "        [0.0000, 0.0000, 0.2537, 0.0000, 0.0000],\n",
              "        [0.0000, 0.0000, 0.5581, 0.0000, 0.0000]])"
            ]
          },
          "metadata": {
            "tags": []
          },
          "execution_count": 163
        }
      ]
    },
    {
      "cell_type": "code",
      "metadata": {
        "id": "DCai-yBO5msq"
      },
      "source": [
        "x = torch.randn(200, 100)\n",
        "y = torch.randn(200)"
      ],
      "execution_count": null,
      "outputs": []
    },
    {
      "cell_type": "code",
      "metadata": {
        "id": "DBMipVoW5qzi"
      },
      "source": [
        "w1 = torch.randn(100,50) * sqrt(2 / 100)\n",
        "b1 = torch.zeros(50)\n",
        "w2 = torch.randn(50,1) * sqrt(2 / 50)\n",
        "b2 = torch.zeros(1)"
      ],
      "execution_count": null,
      "outputs": []
    },
    {
      "cell_type": "code",
      "metadata": {
        "colab": {
          "base_uri": "https://localhost:8080/"
        },
        "id": "Ld9svFff5sJC",
        "outputId": "099331ec-85a5-4b08-b316-4da1a22e650d"
      },
      "source": [
        "l1 = lin(x, w1, b1)\n",
        "l2 = relu(l1)\n",
        "l2.mean(), l2.std()"
      ],
      "execution_count": null,
      "outputs": [
        {
          "output_type": "execute_result",
          "data": {
            "text/plain": [
              "(tensor(0.5572), tensor(0.8151))"
            ]
          },
          "metadata": {
            "tags": []
          },
          "execution_count": 166
        }
      ]
    },
    {
      "cell_type": "code",
      "metadata": {
        "id": "pMsn0ESF5t96"
      },
      "source": [
        "def model(x):\n",
        "    l1 = lin(x, w1, b1)\n",
        "    l2 = relu(l1)\n",
        "    l3 = lin(l2, w2, b2)\n",
        "    return l3"
      ],
      "execution_count": null,
      "outputs": []
    },
    {
      "cell_type": "code",
      "metadata": {
        "colab": {
          "base_uri": "https://localhost:8080/"
        },
        "id": "H7zDpjEw5zei",
        "outputId": "9bb1355e-27e6-4639-a475-a42b0127658b"
      },
      "source": [
        "out = model(x)\n",
        "out.shape"
      ],
      "execution_count": null,
      "outputs": [
        {
          "output_type": "execute_result",
          "data": {
            "text/plain": [
              "torch.Size([200, 1])"
            ]
          },
          "metadata": {
            "tags": []
          },
          "execution_count": 168
        }
      ]
    },
    {
      "cell_type": "code",
      "metadata": {
        "id": "PSlXUYld55YS"
      },
      "source": [
        "def mse(output, targ): return (output.squeeze(-1) - targ).pow(2).mean()"
      ],
      "execution_count": null,
      "outputs": []
    },
    {
      "cell_type": "code",
      "metadata": {
        "colab": {
          "base_uri": "https://localhost:8080/"
        },
        "id": "83p7-d-P58tS",
        "outputId": "4f3dfb81-e354-4347-c375-dd09adb7338b"
      },
      "source": [
        "loss = mse(out, y)\n",
        "loss"
      ],
      "execution_count": null,
      "outputs": [
        {
          "output_type": "execute_result",
          "data": {
            "text/plain": [
              "tensor(3.4513)"
            ]
          },
          "metadata": {
            "tags": []
          },
          "execution_count": 170
        }
      ]
    },
    {
      "cell_type": "markdown",
      "metadata": {
        "id": "PBfCUEkAQQSS"
      },
      "source": [
        "## Backpropagation"
      ]
    },
    {
      "cell_type": "code",
      "metadata": {
        "id": "ANmwWQot5-kC"
      },
      "source": [
        "def mse_grad(inp, targ): \n",
        "    # grad of loss with respect to output of previous layer\n",
        "    inp.g = 2. * (inp.squeeze() - targ).unsqueeze(-1) / inp.shape[0]"
      ],
      "execution_count": null,
      "outputs": []
    },
    {
      "cell_type": "code",
      "metadata": {
        "id": "B9Ge7ug6QTeG"
      },
      "source": [
        "def relu_grad(inp, out):\n",
        "    # grad of relu with respect to input activations\n",
        "    inp.g = (inp>0).float() * out.g"
      ],
      "execution_count": null,
      "outputs": []
    },
    {
      "cell_type": "code",
      "metadata": {
        "id": "Eti23VbSQVfU"
      },
      "source": [
        "def lin_grad(inp, out, w, b):\n",
        "    # grad of matmul with respect to input\n",
        "    inp.g = out.g @ w.t()\n",
        "    w.g = inp.t() @ out.g\n",
        "    b.g = out.g.sum(0)"
      ],
      "execution_count": null,
      "outputs": []
    },
    {
      "cell_type": "code",
      "metadata": {
        "id": "TpodUl9KQXwl"
      },
      "source": [
        "def forward_and_backward(inp, targ):\n",
        "    # forward pass:\n",
        "    l1 = inp @ w1 + b1\n",
        "    l2 = relu(l1)\n",
        "    out = l2 @ w2 + b2\n",
        "    # we don't actually need the loss in backward!\n",
        "    loss = mse(out, targ)\n",
        "    \n",
        "    # backward pass:\n",
        "    mse_grad(out, targ)\n",
        "    lin_grad(l2, out, w2, b2)\n",
        "    relu_grad(l1, l2)\n",
        "    lin_grad(inp, l1, w1, b1)"
      ],
      "execution_count": null,
      "outputs": []
    },
    {
      "cell_type": "markdown",
      "metadata": {
        "id": "rvxxaKEhKwSK"
      },
      "source": [
        "## Anpassung unseres Modells"
      ]
    },
    {
      "cell_type": "code",
      "metadata": {
        "id": "RlM9pI46QxXU"
      },
      "source": [
        "class Relu():\n",
        "    def __call__(self, inp):\n",
        "        self.inp = inp\n",
        "        self.out = inp.clamp_min(0.)\n",
        "        return self.out\n",
        "    \n",
        "    def backward(self): self.inp.g = (self.inp>0).float() * self.out.g"
      ],
      "execution_count": null,
      "outputs": []
    },
    {
      "cell_type": "code",
      "metadata": {
        "id": "mK5CRMGQK2z-"
      },
      "source": [
        "class Lin():\n",
        "    def __init__(self, w, b): self.w,self.b = w,b\n",
        "        \n",
        "    def __call__(self, inp):\n",
        "        self.inp = inp\n",
        "        self.out = inp@self.w + self.b\n",
        "        return self.out\n",
        "    \n",
        "    def backward(self):\n",
        "        self.inp.g = self.out.g @ self.w.t()\n",
        "        self.w.g = self.inp.t() @ self.out.g\n",
        "        self.b.g = self.out.g.sum(0)"
      ],
      "execution_count": null,
      "outputs": []
    },
    {
      "cell_type": "code",
      "metadata": {
        "id": "qxyxdnz_K5wk"
      },
      "source": [
        "class Mse():\n",
        "    def __call__(self, inp, targ):\n",
        "        self.inp = inp\n",
        "        self.targ = targ\n",
        "        self.out = (inp.squeeze() - targ).pow(2).mean()\n",
        "        return self.out\n",
        "    \n",
        "    def backward(self):\n",
        "        x = (self.inp.squeeze()-self.targ).unsqueeze(-1)\n",
        "        self.inp.g = 2.*x/self.targ.shape[0]"
      ],
      "execution_count": null,
      "outputs": []
    },
    {
      "cell_type": "code",
      "metadata": {
        "id": "HLJ74jiYK8EU"
      },
      "source": [
        "class Model():\n",
        "    def __init__(self, w1, b1, w2, b2):\n",
        "        self.layers = [Lin(w1,b1), Relu(), Lin(w2,b2)]\n",
        "        self.loss = Mse()\n",
        "        \n",
        "    def __call__(self, x, targ):\n",
        "        for l in self.layers: x = l(x)\n",
        "        return self.loss(x, targ)\n",
        "    \n",
        "    def backward(self):\n",
        "        self.loss.backward()\n",
        "        for l in reversed(self.layers): l.backward()"
      ],
      "execution_count": null,
      "outputs": []
    },
    {
      "cell_type": "code",
      "metadata": {
        "id": "eBXUU1JuLMCl"
      },
      "source": [
        "model = Model(w1, b1, w2, b2)"
      ],
      "execution_count": null,
      "outputs": []
    },
    {
      "cell_type": "code",
      "metadata": {
        "id": "fbDqjysLLQqe"
      },
      "source": [
        "loss = model(x, y)"
      ],
      "execution_count": null,
      "outputs": []
    },
    {
      "cell_type": "code",
      "metadata": {
        "id": "umVvOtUMLSn1"
      },
      "source": [
        "model.backward()"
      ],
      "execution_count": null,
      "outputs": []
    },
    {
      "cell_type": "markdown",
      "metadata": {
        "id": "QnmOZXK-MkPy"
      },
      "source": [
        "## Brückenschlag zu PyTorch"
      ]
    },
    {
      "cell_type": "code",
      "metadata": {
        "id": "JevBPwWHLUTk"
      },
      "source": [
        "class LayerFunction():\n",
        "    def __call__(self, *args):\n",
        "        self.args = args\n",
        "        self.out = self.forward(*args)\n",
        "        return self.out\n",
        "    \n",
        "    def forward(self):  raise Exception('not implemented')\n",
        "    def bwd(self):      raise Exception('not implemented')\n",
        "    def backward(self): self.bwd(self.out, *self.args)"
      ],
      "execution_count": null,
      "outputs": []
    },
    {
      "cell_type": "code",
      "metadata": {
        "id": "jSwKUwfjMsnR"
      },
      "source": [
        "class Relu(LayerFunction):\n",
        "    def forward(self, inp): return inp.clamp_min(0.)\n",
        "    def bwd(self, out, inp): inp.g = (inp>0).float() * out.g"
      ],
      "execution_count": null,
      "outputs": []
    },
    {
      "cell_type": "code",
      "metadata": {
        "id": "TP_rvS0bMwbn"
      },
      "source": [
        "class Lin(LayerFunction):\n",
        "    def __init__(self, w, b): self.w,self.b = w,b\n",
        "        \n",
        "    def forward(self, inp): return inp@self.w + self.b\n",
        "    \n",
        "    def bwd(self, out, inp):\n",
        "        inp.g = out.g @ self.w.t()\n",
        "        self.w.g = inp.t() @ self.out.g\n",
        "        self.b.g = out.g.sum(0)"
      ],
      "execution_count": null,
      "outputs": []
    },
    {
      "cell_type": "code",
      "metadata": {
        "id": "BDM9J66iMybf"
      },
      "source": [
        "class Mse(LayerFunction):\n",
        "    def forward (self, inp, targ): return (inp.squeeze() - targ).pow(2).mean()\n",
        "    def bwd(self, out, inp, targ): \n",
        "        inp.g = 2*(inp.squeeze()-targ).unsqueeze(-1) / targ.shape[0]"
      ],
      "execution_count": null,
      "outputs": []
    },
    {
      "cell_type": "code",
      "metadata": {
        "id": "QMXy-AqsM2CV"
      },
      "source": [
        "# autograd-Funktion\n",
        "from torch.autograd import Function\n",
        "\n",
        "class MyRelu(Function):\n",
        "    @staticmethod\n",
        "    def forward(ctx, i):\n",
        "        result = i.clamp_min(0.)\n",
        "        ctx.save_for_backward(i)\n",
        "        return result\n",
        "    \n",
        "    @staticmethod\n",
        "    def backward(ctx, grad_output):\n",
        "        i, = ctx.saved_tensors\n",
        "        return grad_output * (i>0).float()"
      ],
      "execution_count": null,
      "outputs": []
    },
    {
      "cell_type": "code",
      "metadata": {
        "id": "Bmd35I1KSg3k"
      },
      "source": [
        ""
      ],
      "execution_count": null,
      "outputs": []
    },
    {
      "cell_type": "code",
      "metadata": {
        "id": "a3fJRxiHNeCF"
      },
      "source": [
        "import torch.nn as nn\n",
        "\n",
        "class LinearLayer(nn.Module):\n",
        "    def __init__(self, n_in, n_out):\n",
        "        super().__init__()\n",
        "        self.weight = nn.Parameter(torch.randn(n_out, n_in) * sqrt(2/n_in))\n",
        "        self.bias = nn.Parameter(torch.zeros(n_out))\n",
        "    \n",
        "    def forward(self, x): return x @ self.weight.t() + self.bias"
      ],
      "execution_count": null,
      "outputs": []
    },
    {
      "cell_type": "code",
      "metadata": {
        "colab": {
          "base_uri": "https://localhost:8080/"
        },
        "id": "6s55-SyaNuit",
        "outputId": "a92cdcef-8b99-441a-c1bc-33b289c9aa31"
      },
      "source": [
        "lin = LinearLayer(10,2)\n",
        "p1,p2 = lin.parameters()\n",
        "p1.shape,p2.shape"
      ],
      "execution_count": null,
      "outputs": [
        {
          "output_type": "execute_result",
          "data": {
            "text/plain": [
              "(torch.Size([2, 10]), torch.Size([2]))"
            ]
          },
          "metadata": {
            "tags": []
          },
          "execution_count": 188
        }
      ]
    },
    {
      "cell_type": "code",
      "metadata": {
        "id": "br4sSFOINw04"
      },
      "source": [
        "class Model(nn.Module):\n",
        "    def __init__(self, n_in, nh, n_out):\n",
        "        super().__init__()\n",
        "        self.layers = nn.Sequential(\n",
        "            nn.Linear(n_in,nh), nn.ReLU(), nn.Linear(nh,n_out))\n",
        "        self.loss = mse\n",
        "        \n",
        "    def forward(self, x, targ): return self.loss(self.layers(x).squeeze(), targ)"
      ],
      "execution_count": null,
      "outputs": []
    },
    {
      "cell_type": "code",
      "metadata": {
        "id": "TmygkZkiN-v3"
      },
      "source": [
        "# Module aus dem fastai Framework\n",
        "class Model(Module):\n",
        "    def __init__(self, n_in, nh, n_out):\n",
        "        self.layers = nn.Sequential(\n",
        "            nn.Linear(n_in,nh), nn.ReLU(), nn.Linear(nh,n_out))\n",
        "        self.loss = mse\n",
        "        \n",
        "    def forward(self, x, targ): return self.loss(self.layers(x).squeeze(), targ)"
      ],
      "execution_count": null,
      "outputs": []
    },
    {
      "cell_type": "code",
      "metadata": {
        "id": "eSVoAr5wOFWS"
      },
      "source": [
        ""
      ],
      "execution_count": null,
      "outputs": []
    }
  ]
}